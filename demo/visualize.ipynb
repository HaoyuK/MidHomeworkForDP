{
 "cells": [
  {
   "cell_type": "code",
   "execution_count": 1,
   "metadata": {},
   "outputs": [
    {
     "name": "stderr",
     "output_type": "stream",
     "text": [
      "/root/anaconda3/envs/openmmlab/lib/python3.8/site-packages/tqdm/auto.py:21: TqdmWarning: IProgress not found. Please update jupyter and ipywidgets. See https://ipywidgets.readthedocs.io/en/stable/user_install.html\n",
      "  from .autonotebook import tqdm as notebook_tqdm\n"
     ]
    },
    {
     "name": "stdout",
     "output_type": "stream",
     "text": [
      "Loads checkpoint by local backend from path: ../work_dirs/faster-rcnn_r50_fpn_1x_voc/epoch_12.pth\n",
      "05/30 15:24:47 - mmengine - \u001b[5m\u001b[4m\u001b[33mWARNING\u001b[0m - Failed to search registry with scope \"mmdet\" in the \"function\" registry tree. As a workaround, the current \"function\" registry in \"mmengine\" is used to build instance. This may cause unexpected failure when running the built modules. Please check whether \"mmdet\" is a correct scope, or whether the registry is initialized.\n"
     ]
    },
    {
     "name": "stderr",
     "output_type": "stream",
     "text": [
      "/root/anaconda3/envs/openmmlab/lib/python3.8/site-packages/mmengine/visualization/visualizer.py:196: UserWarning: Failed to add <class 'mmengine.visualization.vis_backend.LocalVisBackend'>, please provide the `save_dir` argument.\n",
      "  warnings.warn(f'Failed to add {vis_backend.__class__}, '\n"
     ]
    }
   ],
   "source": [
    "from mmdet.apis import DetInferencer\n",
    "# Choose to use a config\n",
    "config_path = '../work_dirs/faster-rcnn_r50_fpn_1x_voc/faster-rcnn_r50_fpn_1x_voc.py'\n",
    "\n",
    "# Setup a checkpoint file to load\n",
    "checkpoint = '../work_dirs/faster-rcnn_r50_fpn_1x_voc/epoch_12.pth'\n",
    "\n",
    "# Initialize the DetInferencer\n",
    "inferencer = DetInferencer(model=config_path, weights=checkpoint)"
   ]
  },
  {
   "cell_type": "code",
   "execution_count": 4,
   "metadata": {},
   "outputs": [
    {
     "data": {
      "text/html": [
       "<pre style=\"white-space:pre;overflow-x:auto;line-height:normal;font-family:Menlo,'DejaVu Sans Mono',consolas,'Courier New',monospace\"></pre>\n"
      ],
      "text/plain": []
     },
     "metadata": {},
     "output_type": "display_data"
    },
    {
     "data": {
      "text/html": [
       "<pre style=\"white-space:pre;overflow-x:auto;line-height:normal;font-family:Menlo,'DejaVu Sans Mono',consolas,'Courier New',monospace\">\n",
       "</pre>\n"
      ],
      "text/plain": [
       "\n"
      ]
     },
     "metadata": {},
     "output_type": "display_data"
    },
    {
     "data": {
      "text/plain": [
       "{'predictions': [{'labels': [6, 5],\n",
       "   'scores': [0.9998835325241089, 0.9902655482292175],\n",
       "   'bboxes': [[193.04653930664062,\n",
       "     165.19337463378906,\n",
       "     293.1112060546875,\n",
       "     238.10647583007812],\n",
       "    [142.43003845214844,\n",
       "     58.30892562866211,\n",
       "     284.8612976074219,\n",
       "     220.70668029785156]]}],\n",
       " 'visualization': [array([[[ 63,  60,  43],\n",
       "          [ 58,  55,  38],\n",
       "          [ 58,  55,  40],\n",
       "          ...,\n",
       "          [ 65,  59,  35],\n",
       "          [ 63,  56,  28],\n",
       "          [ 71,  62,  33]],\n",
       "  \n",
       "         [[ 66,  63,  46],\n",
       "          [ 66,  63,  46],\n",
       "          [ 60,  57,  42],\n",
       "          ...,\n",
       "          [ 28,  24,   0],\n",
       "          [ 43,  39,  12],\n",
       "          [ 47,  42,  13]],\n",
       "  \n",
       "         [[ 72,  69,  54],\n",
       "          [ 71,  68,  53],\n",
       "          [ 56,  52,  40],\n",
       "          ...,\n",
       "          [ 42,  36,  12],\n",
       "          [ 45,  41,  16],\n",
       "          [ 56,  52,  27]],\n",
       "  \n",
       "         ...,\n",
       "  \n",
       "         [[133, 126, 116],\n",
       "          [133, 126, 116],\n",
       "          [132, 125, 115],\n",
       "          ...,\n",
       "          [177, 170, 162],\n",
       "          [177, 170, 162],\n",
       "          [177, 170, 162]],\n",
       "  \n",
       "         [[134, 127, 117],\n",
       "          [134, 127, 117],\n",
       "          [133, 126, 116],\n",
       "          ...,\n",
       "          [177, 170, 162],\n",
       "          [177, 170, 162],\n",
       "          [177, 170, 162]],\n",
       "  \n",
       "         [[134, 127, 117],\n",
       "          [134, 127, 117],\n",
       "          [134, 127, 117],\n",
       "          ...,\n",
       "          [176, 169, 161],\n",
       "          [176, 169, 161],\n",
       "          [176, 169, 161]]], dtype=uint8)]}"
      ]
     },
     "execution_count": 4,
     "metadata": {},
     "output_type": "execute_result"
    }
   ],
   "source": [
    "# Perform inference\n",
    "inferencer('./rpn_vis/origin/test_1.jpg', out_dir='./rpn_vis/final')"
   ]
  },
  {
   "cell_type": "code",
   "execution_count": 5,
   "metadata": {},
   "outputs": [
    {
     "ename": "FileNotFoundError",
     "evalue": "[Errno 2] No such file or directory: './rpn_vis/final/test_1.jpg'",
     "output_type": "error",
     "traceback": [
      "\u001b[0;31m---------------------------------------------------------------------------\u001b[0m",
      "\u001b[0;31mFileNotFoundError\u001b[0m                         Traceback (most recent call last)",
      "Cell \u001b[0;32mIn[5], line 2\u001b[0m\n\u001b[1;32m      1\u001b[0m \u001b[38;5;28;01mfrom\u001b[39;00m \u001b[38;5;21;01mPIL\u001b[39;00m \u001b[38;5;28;01mimport\u001b[39;00m Image\n\u001b[0;32m----> 2\u001b[0m \u001b[43mImage\u001b[49m\u001b[38;5;241;43m.\u001b[39;49m\u001b[43mopen\u001b[49m\u001b[43m(\u001b[49m\u001b[38;5;124;43m'\u001b[39;49m\u001b[38;5;124;43m./rpn_vis/final/test_1.jpg\u001b[39;49m\u001b[38;5;124;43m'\u001b[39;49m\u001b[43m)\u001b[49m\n",
      "File \u001b[0;32m~/anaconda3/envs/openmmlab/lib/python3.8/site-packages/PIL/Image.py:3236\u001b[0m, in \u001b[0;36mopen\u001b[0;34m(fp, mode, formats)\u001b[0m\n\u001b[1;32m   3233\u001b[0m     filename \u001b[38;5;241m=\u001b[39m fp\n\u001b[1;32m   3235\u001b[0m \u001b[38;5;28;01mif\u001b[39;00m filename:\n\u001b[0;32m-> 3236\u001b[0m     fp \u001b[38;5;241m=\u001b[39m \u001b[43mbuiltins\u001b[49m\u001b[38;5;241;43m.\u001b[39;49m\u001b[43mopen\u001b[49m\u001b[43m(\u001b[49m\u001b[43mfilename\u001b[49m\u001b[43m,\u001b[49m\u001b[43m \u001b[49m\u001b[38;5;124;43m\"\u001b[39;49m\u001b[38;5;124;43mrb\u001b[39;49m\u001b[38;5;124;43m\"\u001b[39;49m\u001b[43m)\u001b[49m\n\u001b[1;32m   3237\u001b[0m     exclusive_fp \u001b[38;5;241m=\u001b[39m \u001b[38;5;28;01mTrue\u001b[39;00m\n\u001b[1;32m   3239\u001b[0m \u001b[38;5;28;01mtry\u001b[39;00m:\n",
      "\u001b[0;31mFileNotFoundError\u001b[0m: [Errno 2] No such file or directory: './rpn_vis/final/test_1.jpg'"
     ]
    }
   ],
   "source": [
    "from PIL import Image\n",
    "Image.open('./rpn_vis/final/vis/test_1.jpg')"
   ]
  }
 ],
 "metadata": {
  "kernelspec": {
   "display_name": "openmmlab",
   "language": "python",
   "name": "python3"
  },
  "language_info": {
   "codemirror_mode": {
    "name": "ipython",
    "version": 3
   },
   "file_extension": ".py",
   "mimetype": "text/x-python",
   "name": "python",
   "nbconvert_exporter": "python",
   "pygments_lexer": "ipython3",
   "version": "3.8.19"
  }
 },
 "nbformat": 4,
 "nbformat_minor": 2
}
